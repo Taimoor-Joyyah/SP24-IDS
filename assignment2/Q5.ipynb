{
 "cells": [
  {
   "cell_type": "code",
   "execution_count": 20,
   "id": "initial_id",
   "metadata": {
    "collapsed": true,
    "ExecuteTime": {
     "end_time": "2024-03-28T17:47:28.770090700Z",
     "start_time": "2024-03-28T17:47:28.756535300Z"
    }
   },
   "outputs": [],
   "source": [
    "# 28-3-24\n",
    "# CSC461 – Assignment2 – IDS – Data Visualization\n",
    "# Muhammad Taimoor\n",
    "# FA21-BSE-134\n",
    "# Q5"
   ]
  },
  {
   "cell_type": "code",
   "execution_count": 21,
   "outputs": [],
   "source": [
    "import pandas as pd\n",
    "import folium"
   ],
   "metadata": {
    "collapsed": false,
    "ExecuteTime": {
     "end_time": "2024-03-28T17:47:28.770090700Z",
     "start_time": "2024-03-28T17:47:28.764790900Z"
    }
   },
   "id": "8d743438ed0ba8e5"
  },
  {
   "cell_type": "code",
   "execution_count": 22,
   "outputs": [],
   "source": [
    "df = pd.read_csv('covid-pak-data.csv')"
   ],
   "metadata": {
    "collapsed": false,
    "ExecuteTime": {
     "end_time": "2024-03-28T17:47:28.800274Z",
     "start_time": "2024-03-28T17:47:28.771082200Z"
    }
   },
   "id": "80b015cd9fad388b"
  },
  {
   "cell_type": "code",
   "execution_count": 23,
   "outputs": [
    {
     "data": {
      "text/plain": "<folium.folium.Map at 0x1af634f3290>",
      "text/html": "<div style=\"width:100%;\"><div style=\"position:relative;width:100%;height:0;padding-bottom:60%;\"><span style=\"color:#565656\">Make this Notebook Trusted to load map: File -> Trust Notebook</span><iframe srcdoc=\"&lt;!DOCTYPE html&gt;\n&lt;html&gt;\n&lt;head&gt;\n    \n    &lt;meta http-equiv=&quot;content-type&quot; content=&quot;text/html; charset=UTF-8&quot; /&gt;\n    \n        &lt;script&gt;\n            L_NO_TOUCH = false;\n            L_DISABLE_3D = false;\n        &lt;/script&gt;\n    \n    &lt;style&gt;html, body {width: 100%;height: 100%;margin: 0;padding: 0;}&lt;/style&gt;\n    &lt;style&gt;#map {position:absolute;top:0;bottom:0;right:0;left:0;}&lt;/style&gt;\n    &lt;script src=&quot;https://cdn.jsdelivr.net/npm/leaflet@1.9.3/dist/leaflet.js&quot;&gt;&lt;/script&gt;\n    &lt;script src=&quot;https://code.jquery.com/jquery-1.12.4.min.js&quot;&gt;&lt;/script&gt;\n    &lt;script src=&quot;https://cdn.jsdelivr.net/npm/bootstrap@5.2.2/dist/js/bootstrap.bundle.min.js&quot;&gt;&lt;/script&gt;\n    &lt;script src=&quot;https://cdnjs.cloudflare.com/ajax/libs/Leaflet.awesome-markers/2.0.2/leaflet.awesome-markers.js&quot;&gt;&lt;/script&gt;\n    &lt;link rel=&quot;stylesheet&quot; href=&quot;https://cdn.jsdelivr.net/npm/leaflet@1.9.3/dist/leaflet.css&quot;/&gt;\n    &lt;link rel=&quot;stylesheet&quot; href=&quot;https://cdn.jsdelivr.net/npm/bootstrap@5.2.2/dist/css/bootstrap.min.css&quot;/&gt;\n    &lt;link rel=&quot;stylesheet&quot; href=&quot;https://netdna.bootstrapcdn.com/bootstrap/3.0.0/css/bootstrap.min.css&quot;/&gt;\n    &lt;link rel=&quot;stylesheet&quot; href=&quot;https://cdn.jsdelivr.net/npm/@fortawesome/fontawesome-free@6.2.0/css/all.min.css&quot;/&gt;\n    &lt;link rel=&quot;stylesheet&quot; href=&quot;https://cdnjs.cloudflare.com/ajax/libs/Leaflet.awesome-markers/2.0.2/leaflet.awesome-markers.css&quot;/&gt;\n    &lt;link rel=&quot;stylesheet&quot; href=&quot;https://cdn.jsdelivr.net/gh/python-visualization/folium/folium/templates/leaflet.awesome.rotate.min.css&quot;/&gt;\n    \n            &lt;meta name=&quot;viewport&quot; content=&quot;width=device-width,\n                initial-scale=1.0, maximum-scale=1.0, user-scalable=no&quot; /&gt;\n            &lt;style&gt;\n                #map_4f5e3ccaa65060510aa32f18a5778af6 {\n                    position: relative;\n                    width: 100.0%;\n                    height: 100.0%;\n                    left: 0.0%;\n                    top: 0.0%;\n                }\n                .leaflet-container { font-size: 1rem; }\n            &lt;/style&gt;\n        \n&lt;/head&gt;\n&lt;body&gt;\n    \n    \n            &lt;div class=&quot;folium-map&quot; id=&quot;map_4f5e3ccaa65060510aa32f18a5778af6&quot; &gt;&lt;/div&gt;\n        \n&lt;/body&gt;\n&lt;script&gt;\n    \n    \n            var map_4f5e3ccaa65060510aa32f18a5778af6 = L.map(\n                &quot;map_4f5e3ccaa65060510aa32f18a5778af6&quot;,\n                {\n                    center: [28.8973, 68.3222],\n                    crs: L.CRS.EPSG3857,\n                    zoom: 6,\n                    zoomControl: true,\n                    preferCanvas: false,\n                }\n            );\n\n            \n\n        \n    \n            var tile_layer_e66172327fc18ad0827c80c2dc3027e4 = L.tileLayer(\n                &quot;https://{s}.tile.openstreetmap.org/{z}/{x}/{y}.png&quot;,\n                {&quot;attribution&quot;: &quot;Data by \\u0026copy; \\u003ca target=\\&quot;_blank\\&quot; href=\\&quot;http://openstreetmap.org\\&quot;\\u003eOpenStreetMap\\u003c/a\\u003e, under \\u003ca target=\\&quot;_blank\\&quot; href=\\&quot;http://www.openstreetmap.org/copyright\\&quot;\\u003eODbL\\u003c/a\\u003e.&quot;, &quot;detectRetina&quot;: false, &quot;maxNativeZoom&quot;: 18, &quot;maxZoom&quot;: 18, &quot;minZoom&quot;: 0, &quot;noWrap&quot;: false, &quot;opacity&quot;: 1, &quot;subdomains&quot;: &quot;abc&quot;, &quot;tms&quot;: false}\n            ).addTo(map_4f5e3ccaa65060510aa32f18a5778af6);\n        \n    \n            var marker_57b90558ba1b9b3bf36f9dec478ce7d7 = L.marker(\n                [31.17, 72.7],\n                {}\n            ).addTo(map_4f5e3ccaa65060510aa32f18a5778af6);\n        \n    \n        var popup_cb65a2ec32c435c4239f56b5c402ed6e = L.popup({&quot;maxWidth&quot;: &quot;100%&quot;});\n\n        \n            \n                var html_ebec53fcb09768e1ef85d0503bc632a2 = $(`&lt;div id=&quot;html_ebec53fcb09768e1ef85d0503bc632a2&quot; style=&quot;width: 100.0%; height: 100.0%;&quot;&gt;Punjab&lt;/div&gt;`)[0];\n                popup_cb65a2ec32c435c4239f56b5c402ed6e.setContent(html_ebec53fcb09768e1ef85d0503bc632a2);\n            \n        \n\n        marker_57b90558ba1b9b3bf36f9dec478ce7d7.bindPopup(popup_cb65a2ec32c435c4239f56b5c402ed6e)\n        ;\n\n        \n    \n    \n            var marker_39346c173dc5942ea5b6b396795f79f7 = L.marker(\n                [25.89, 68.52],\n                {}\n            ).addTo(map_4f5e3ccaa65060510aa32f18a5778af6);\n        \n    \n        var popup_a319158b04049dcfdcdc801947323b53 = L.popup({&quot;maxWidth&quot;: &quot;100%&quot;});\n\n        \n            \n                var html_08a08f7f4b06f553bf19a0cfc217c4ab = $(`&lt;div id=&quot;html_08a08f7f4b06f553bf19a0cfc217c4ab&quot; style=&quot;width: 100.0%; height: 100.0%;&quot;&gt;Sindh&lt;/div&gt;`)[0];\n                popup_a319158b04049dcfdcdc801947323b53.setContent(html_08a08f7f4b06f553bf19a0cfc217c4ab);\n            \n        \n\n        marker_39346c173dc5942ea5b6b396795f79f7.bindPopup(popup_a319158b04049dcfdcdc801947323b53)\n        ;\n\n        \n    \n    \n            var marker_3373c9d9bf4fea4fe48d0b06d6b920cf = L.marker(\n                [34.95, 72.33],\n                {}\n            ).addTo(map_4f5e3ccaa65060510aa32f18a5778af6);\n        \n    \n        var popup_dc7ee786805542680766ada46a9fae4f = L.popup({&quot;maxWidth&quot;: &quot;100%&quot;});\n\n        \n            \n                var html_4e03f455e1f999805d43600afa4fcecf = $(`&lt;div id=&quot;html_4e03f455e1f999805d43600afa4fcecf&quot; style=&quot;width: 100.0%; height: 100.0%;&quot;&gt;KPK&lt;/div&gt;`)[0];\n                popup_dc7ee786805542680766ada46a9fae4f.setContent(html_4e03f455e1f999805d43600afa4fcecf);\n            \n        \n\n        marker_3373c9d9bf4fea4fe48d0b06d6b920cf.bindPopup(popup_dc7ee786805542680766ada46a9fae4f)\n        ;\n\n        \n    \n    \n            var marker_29e4d144f735e39ff63964bcfe0e09ea = L.marker(\n                [28.49, 65.09],\n                {}\n            ).addTo(map_4f5e3ccaa65060510aa32f18a5778af6);\n        \n    \n        var popup_5453dcdff54c9e8d0ba9534af3e888ea = L.popup({&quot;maxWidth&quot;: &quot;100%&quot;});\n\n        \n            \n                var html_65f1de3561da6e02339212a864e98c90 = $(`&lt;div id=&quot;html_65f1de3561da6e02339212a864e98c90&quot; style=&quot;width: 100.0%; height: 100.0%;&quot;&gt;Balochistan&lt;/div&gt;`)[0];\n                popup_5453dcdff54c9e8d0ba9534af3e888ea.setContent(html_65f1de3561da6e02339212a864e98c90);\n            \n        \n\n        marker_29e4d144f735e39ff63964bcfe0e09ea.bindPopup(popup_5453dcdff54c9e8d0ba9534af3e888ea)\n        ;\n\n        \n    \n    \n            var marker_5fac443c6f757172fa2cce99bf384380 = L.marker(\n                [33.68, 73.04],\n                {}\n            ).addTo(map_4f5e3ccaa65060510aa32f18a5778af6);\n        \n    \n        var popup_e1864cc83807f4c1e1418caa5de7ee1c = L.popup({&quot;maxWidth&quot;: &quot;100%&quot;});\n\n        \n            \n                var html_deb2a7d3ae192d7c6525579f8cc75b8e = $(`&lt;div id=&quot;html_deb2a7d3ae192d7c6525579f8cc75b8e&quot; style=&quot;width: 100.0%; height: 100.0%;&quot;&gt;ICT&lt;/div&gt;`)[0];\n                popup_e1864cc83807f4c1e1418caa5de7ee1c.setContent(html_deb2a7d3ae192d7c6525579f8cc75b8e);\n            \n        \n\n        marker_5fac443c6f757172fa2cce99bf384380.bindPopup(popup_e1864cc83807f4c1e1418caa5de7ee1c)\n        ;\n\n        \n    \n    \n            var marker_fe9e5bbbba368209f098c1e37101c366 = L.marker(\n                [33.92, 73.78],\n                {}\n            ).addTo(map_4f5e3ccaa65060510aa32f18a5778af6);\n        \n    \n        var popup_ffaafc780fb2f4e03fe30703db8d2328 = L.popup({&quot;maxWidth&quot;: &quot;100%&quot;});\n\n        \n            \n                var html_d26544e14405785c15e8f0bfd601d77c = $(`&lt;div id=&quot;html_d26544e14405785c15e8f0bfd601d77c&quot; style=&quot;width: 100.0%; height: 100.0%;&quot;&gt;AJK&lt;/div&gt;`)[0];\n                popup_ffaafc780fb2f4e03fe30703db8d2328.setContent(html_d26544e14405785c15e8f0bfd601d77c);\n            \n        \n\n        marker_fe9e5bbbba368209f098c1e37101c366.bindPopup(popup_ffaafc780fb2f4e03fe30703db8d2328)\n        ;\n\n        \n    \n    \n            var marker_412e02d9b1fed9e444e6fa4bf7df63de = L.marker(\n                [35.8, 74.98],\n                {}\n            ).addTo(map_4f5e3ccaa65060510aa32f18a5778af6);\n        \n    \n        var popup_bb9735e31312644523b0853c09e58a4c = L.popup({&quot;maxWidth&quot;: &quot;100%&quot;});\n\n        \n            \n                var html_2f5857a0384685bcbe0c36792184dde9 = $(`&lt;div id=&quot;html_2f5857a0384685bcbe0c36792184dde9&quot; style=&quot;width: 100.0%; height: 100.0%;&quot;&gt;GB&lt;/div&gt;`)[0];\n                popup_bb9735e31312644523b0853c09e58a4c.setContent(html_2f5857a0384685bcbe0c36792184dde9);\n            \n        \n\n        marker_412e02d9b1fed9e444e6fa4bf7df63de.bindPopup(popup_bb9735e31312644523b0853c09e58a4c)\n        ;\n\n        \n    \n&lt;/script&gt;\n&lt;/html&gt;\" style=\"position:absolute;width:100%;height:100%;left:0;top:0;border:none !important;\" allowfullscreen webkitallowfullscreen mozallowfullscreen></iframe></div></div>"
     },
     "execution_count": 23,
     "metadata": {},
     "output_type": "execute_result"
    }
   ],
   "source": [
    "pakistan_map = folium.Map(location=[28.8973, 68.3222], zoom_start=6)\n",
    "\n",
    "for index, row in df.iterrows():\n",
    "    folium.Marker([row['Latitude'], row['Longitude']], popup=row['State']).add_to(pakistan_map)\n",
    "\n",
    "pakistan_map"
   ],
   "metadata": {
    "collapsed": false,
    "ExecuteTime": {
     "end_time": "2024-03-28T17:47:28.814309300Z",
     "start_time": "2024-03-28T17:47:28.780352400Z"
    }
   },
   "id": "bf7aee24fdbfa0b"
  }
 ],
 "metadata": {
  "kernelspec": {
   "display_name": "Python 3",
   "language": "python",
   "name": "python3"
  },
  "language_info": {
   "codemirror_mode": {
    "name": "ipython",
    "version": 2
   },
   "file_extension": ".py",
   "mimetype": "text/x-python",
   "name": "python",
   "nbconvert_exporter": "python",
   "pygments_lexer": "ipython2",
   "version": "2.7.6"
  }
 },
 "nbformat": 4,
 "nbformat_minor": 5
}
