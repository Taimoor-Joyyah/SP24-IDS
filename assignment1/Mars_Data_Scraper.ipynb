{
 "cells": [
  {
   "cell_type": "markdown",
   "source": [
    "**11-3-2024**\n",
    "**CSC461 – Assignment1 – IDS – Web Scraping**\n",
    "**Muhammad Taimoor**\n",
    "**FA21-BSE-134**\n",
    "**A Mars Planet Profile scraper**"
   ],
   "metadata": {
    "collapsed": false
   },
   "id": "9abd1908b1f6d03a"
  },
  {
   "cell_type": "code",
   "execution_count": 12,
   "outputs": [],
   "source": [
    "import requests\n",
    "from bs4 import BeautifulSoup\n",
    "import pandas as pd"
   ],
   "metadata": {
    "collapsed": false,
    "ExecuteTime": {
     "end_time": "2024-03-10T19:19:20.225782900Z",
     "start_time": "2024-03-10T19:19:20.194707600Z"
    }
   },
   "id": "af68bfdcf5a9668b"
  },
  {
   "cell_type": "code",
   "execution_count": 13,
   "outputs": [],
   "source": [
    "url = 'https://space-facts.com/mars/'\n",
    "response = requests.get(url)\n",
    "\n",
    "soup = BeautifulSoup(response.text, 'html.parser')\n",
    "    \n",
    "mars_facts_table = soup.find('table', id='tablepress-p-mars')\n",
    "\n",
    "headers = []\n",
    "rows = mars_facts_table.find_all('tr')"
   ],
   "metadata": {
    "collapsed": false,
    "ExecuteTime": {
     "end_time": "2024-03-10T19:19:23.153417600Z",
     "start_time": "2024-03-10T19:19:20.194707600Z"
    }
   },
   "id": "9e655f2269164c34"
  },
  {
   "cell_type": "code",
   "execution_count": 14,
   "outputs": [],
   "source": [
    "for row in rows:\n",
    "    columns = row.find_all(['th','td'])\n",
    "    row_data = [col.text.strip() for col in columns]\n",
    "    if columns[0].name == 'th':  \n",
    "        headers = row_data\n",
    "    else:\n",
    "        if not headers: \n",
    "            headers = ['Property', 'Value']"
   ],
   "metadata": {
    "collapsed": false,
    "ExecuteTime": {
     "end_time": "2024-03-10T19:19:23.170804800Z",
     "start_time": "2024-03-10T19:19:23.165613800Z"
    }
   },
   "id": "b12058ca67fa5896"
  },
  {
   "cell_type": "code",
   "execution_count": 15,
   "outputs": [],
   "source": [
    "data = []\n",
    "for row in rows:\n",
    "    columns = row.find_all('td')\n",
    "    if len(columns) > 1: \n",
    "        data.append({\n",
    "            headers[0]: columns[0].text.strip(),\n",
    "            headers[1]: columns[1].text.strip()\n",
    "        })"
   ],
   "metadata": {
    "collapsed": false,
    "ExecuteTime": {
     "end_time": "2024-03-10T19:19:23.197499200Z",
     "start_time": "2024-03-10T19:19:23.172065300Z"
    }
   },
   "id": "53cfd8c599270eb3"
  },
  {
   "cell_type": "code",
   "execution_count": 16,
   "outputs": [
    {
     "data": {
      "text/plain": "               Property                           Value\n0  Equatorial Diameter:                        6,792 km\n1       Polar Diameter:                        6,752 km\n2                 Mass:  6.39 × 10^23 kg\\n(0.11 Earths)\n3                Moons:             2 (Phobos & Deimos)\n4       Orbit Distance:       227,943,824 km\\n(1.38 AU)\n5         Orbit Period:            687 days (1.9 years)\n6  Surface Temperature:                    -87 to -5 °C\n7         First Record:               2nd millennium BC\n8          Recorded By:            Egyptian astronomers",
      "text/html": "<div>\n<style scoped>\n    .dataframe tbody tr th:only-of-type {\n        vertical-align: middle;\n    }\n\n    .dataframe tbody tr th {\n        vertical-align: top;\n    }\n\n    .dataframe thead th {\n        text-align: right;\n    }\n</style>\n<table border=\"1\" class=\"dataframe\">\n  <thead>\n    <tr style=\"text-align: right;\">\n      <th></th>\n      <th>Property</th>\n      <th>Value</th>\n    </tr>\n  </thead>\n  <tbody>\n    <tr>\n      <th>0</th>\n      <td>Equatorial Diameter:</td>\n      <td>6,792 km</td>\n    </tr>\n    <tr>\n      <th>1</th>\n      <td>Polar Diameter:</td>\n      <td>6,752 km</td>\n    </tr>\n    <tr>\n      <th>2</th>\n      <td>Mass:</td>\n      <td>6.39 × 10^23 kg\\n(0.11 Earths)</td>\n    </tr>\n    <tr>\n      <th>3</th>\n      <td>Moons:</td>\n      <td>2 (Phobos &amp; Deimos)</td>\n    </tr>\n    <tr>\n      <th>4</th>\n      <td>Orbit Distance:</td>\n      <td>227,943,824 km\\n(1.38 AU)</td>\n    </tr>\n    <tr>\n      <th>5</th>\n      <td>Orbit Period:</td>\n      <td>687 days (1.9 years)</td>\n    </tr>\n    <tr>\n      <th>6</th>\n      <td>Surface Temperature:</td>\n      <td>-87 to -5 °C</td>\n    </tr>\n    <tr>\n      <th>7</th>\n      <td>First Record:</td>\n      <td>2nd millennium BC</td>\n    </tr>\n    <tr>\n      <th>8</th>\n      <td>Recorded By:</td>\n      <td>Egyptian astronomers</td>\n    </tr>\n  </tbody>\n</table>\n</div>"
     },
     "execution_count": 16,
     "metadata": {},
     "output_type": "execute_result"
    }
   ],
   "source": [
    "mars_facts_df = pd.DataFrame(data)\n",
    "mars_facts_df"
   ],
   "metadata": {
    "collapsed": false,
    "ExecuteTime": {
     "end_time": "2024-03-10T19:19:23.307561500Z",
     "start_time": "2024-03-10T19:19:23.190490400Z"
    }
   },
   "id": "e789801ead561b26"
  },
  {
   "cell_type": "code",
   "execution_count": 17,
   "outputs": [],
   "source": [
    "excel_filename = 'Mars.xlsx'\n",
    "mars_facts_df.to_excel(excel_filename, index=False)"
   ],
   "metadata": {
    "collapsed": false,
    "ExecuteTime": {
     "end_time": "2024-03-10T19:19:23.307561500Z",
     "start_time": "2024-03-10T19:19:23.201304300Z"
    }
   },
   "id": "2bfc75be54b1f764"
  }
 ],
 "metadata": {
  "kernelspec": {
   "display_name": "Python 3",
   "language": "python",
   "name": "python3"
  },
  "language_info": {
   "codemirror_mode": {
    "name": "ipython",
    "version": 2
   },
   "file_extension": ".py",
   "mimetype": "text/x-python",
   "name": "python",
   "nbconvert_exporter": "python",
   "pygments_lexer": "ipython2",
   "version": "2.7.6"
  }
 },
 "nbformat": 4,
 "nbformat_minor": 5
}
