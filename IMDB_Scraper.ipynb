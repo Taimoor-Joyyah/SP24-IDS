{
 "cells": [
  {
   "cell_type": "markdown",
   "source": [
    "**11-3-2024**\n",
    "**CSC461 – Assignment1 – IDS – Web Scraping**\n",
    "**Muhammad Taimoor**\n",
    "**FA21-BSE-134**\n",
    "**A IMDB scraper**"
   ],
   "metadata": {
    "collapsed": false
   },
   "id": "9abd1908b1f6d03a"
  },
  {
   "cell_type": "code",
   "execution_count": 94,
   "outputs": [],
   "source": [
    "import requests\n",
    "from bs4 import BeautifulSoup\n",
    "import pandas as pd"
   ],
   "metadata": {
    "collapsed": false,
    "ExecuteTime": {
     "end_time": "2024-03-10T19:01:09.237108100Z",
     "start_time": "2024-03-10T19:01:09.208937600Z"
    }
   },
   "id": "af68bfdcf5a9668b"
  },
  {
   "cell_type": "code",
   "execution_count": 95,
   "outputs": [],
   "source": [
    "url = 'https://www.imdb.com/chart/top/'\n",
    "headers = {\n",
    "    'User-Agent': 'Mozilla/5.0 (Windows NT 10.0; Win64; x64) AppleWebKit/537.36 (KHTML, like Gecko) Chrome/58.0.3029.110 Safari/537.3'\n",
    "}\n",
    "response = requests.get(url, headers=headers)\n",
    "soup = BeautifulSoup(response.text, 'html.parser')\n",
    "\n",
    "movies = []\n",
    "rows = soup.find('ul', class_='ipc-metadata-list')"
   ],
   "metadata": {
    "collapsed": false,
    "ExecuteTime": {
     "end_time": "2024-03-10T19:01:11.624591600Z",
     "start_time": "2024-03-10T19:01:09.214234600Z"
    }
   },
   "id": "9e655f2269164c34"
  },
  {
   "cell_type": "code",
   "execution_count": 96,
   "outputs": [],
   "source": [
    "for row in rows.contents:\n",
    "    title = row.contents[1].div.contents[1].div.h3.text\n",
    "    year = row.contents[1].div.contents[1].contents[1].contents[0].text\n",
    "    duration = row.contents[1].div.contents[1].contents[1].contents[1].text\n",
    "    rating = row.contents[1].div.contents[1].contents[2].span.contents[1]\n",
    "    \n",
    "    if title and rating and year and rating:\n",
    "        movies.append({\n",
    "            'Title': title,\n",
    "            'Year': year,\n",
    "            'IMDB Rating': rating,\n",
    "            'Duration': duration\n",
    "        })"
   ],
   "metadata": {
    "collapsed": false,
    "ExecuteTime": {
     "end_time": "2024-03-10T19:01:11.657290700Z",
     "start_time": "2024-03-10T19:01:11.653914300Z"
    }
   },
   "id": "b12058ca67fa5896"
  },
  {
   "cell_type": "code",
   "execution_count": 97,
   "outputs": [
    {
     "name": "stdout",
     "output_type": "stream",
     "text": [
      "                         Title  Year IMDB Rating Duration\n",
      "0  1. The Shawshank Redemption  1994         9.3   2h 22m\n",
      "1             2. The Godfather  1972         9.2   2h 55m\n",
      "2           3. The Dark Knight  2008         9.0   2h 32m\n",
      "3     4. The Godfather Part II  1974         9.0   3h 22m\n",
      "4              5. 12 Angry Men  1957         9.0   1h 36m\n"
     ]
    }
   ],
   "source": [
    "movies_df = pd.DataFrame(movies)\n",
    "movies_df.to_csv('Movies.csv', index=False)\n",
    "\n",
    "print(movies_df.head())"
   ],
   "metadata": {
    "collapsed": false,
    "ExecuteTime": {
     "end_time": "2024-03-10T19:01:11.685278900Z",
     "start_time": "2024-03-10T19:01:11.657290700Z"
    }
   },
   "id": "53cfd8c599270eb3"
  },
  {
   "cell_type": "markdown",
   "source": [],
   "metadata": {
    "collapsed": false
   },
   "id": "8466c3e129e363c3"
  }
 ],
 "metadata": {
  "kernelspec": {
   "display_name": "Python 3",
   "language": "python",
   "name": "python3"
  },
  "language_info": {
   "codemirror_mode": {
    "name": "ipython",
    "version": 2
   },
   "file_extension": ".py",
   "mimetype": "text/x-python",
   "name": "python",
   "nbconvert_exporter": "python",
   "pygments_lexer": "ipython2",
   "version": "2.7.6"
  }
 },
 "nbformat": 4,
 "nbformat_minor": 5
}
